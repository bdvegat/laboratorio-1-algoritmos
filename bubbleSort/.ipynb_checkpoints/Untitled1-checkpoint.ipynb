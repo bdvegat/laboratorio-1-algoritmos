{
 "cells": [
  {
   "cell_type": "markdown",
   "metadata": {},
   "source": [
    "# Cantidad de pasos Bubble sort "
   ]
  },
  {
   "cell_type": "code",
   "execution_count": 2,
   "metadata": {},
   "outputs": [],
   "source": [
    "from itertools import *\n",
    "import numpy as np\n",
    "import matplotlib.pyplot as plt\n",
    "import random\n",
    "\n",
    "def bubbleSteps (arr):\n",
    "    n= len (arr)\n",
    "    steps=0\n",
    "    \n",
    "    for i in range(0, n-1):\n",
    "        for j in range(0, n - i - 1):\n",
    "            steps+=1\n",
    "            if arr[j] > arr[j + 1]:\n",
    "                temp = arr[j]\n",
    "                arr[j] =arr[j + 1]\n",
    "                arr[j + 1] = temp\n",
    "                steps+=3\n",
    "    return steps\n"
   ]
  },
  {
   "cell_type": "markdown",
   "metadata": {},
   "source": [
    "# Todas las permuataciones tamaño n"
   ]
  },
  {
   "cell_type": "code",
   "execution_count": 19,
   "metadata": {},
   "outputs": [],
   "source": [
    "perm1 = []\n",
    "avg = []\n",
    "for i in range (0,9):\n",
    "    perm1.append(list(permutations(range(1,i+2),i+1)))\n",
    "perm1 = np.array(perm1)"
   ]
  },
  {
   "cell_type": "code",
   "execution_count": 20,
   "metadata": {},
   "outputs": [],
   "source": [
    "steps2=[]\n",
    "aux=[]\n",
    "avg = []\n",
    "\n",
    "for i in range (0,len(perm1)):\n",
    "    for j in range (0, len(perm1[i]) ):\n",
    "        aux.append(bubbleSteps(list(perm1[i][j])))\n",
    "    steps2.append(aux)\n",
    "    aux=[]\n",
    "\n",
    "steps2=np.array(steps2)\n",
    "for i in range (0,len(steps2)):\n",
    "    avg.append(np.average(steps2[i]))\n",
    "\n"
   ]
  },
  {
   "cell_type": "code",
   "execution_count": 21,
   "metadata": {},
   "outputs": [
    {
     "data": {
      "image/png": "[encoded data removed]",
      "text/plain": [
       "<matplotlib.figure.Figure at 0xbc46cc0>"
      ]
     },
     "metadata": {},
     "output_type": "display_data"
    }
   ],
   "source": [
    "plt.scatter(range(1,10),avg)\n",
    "plt.xlabel('n')\n",
    "plt.ylabel('promedio');"
   ]
  },
  {
   "cell_type": "code",
   "execution_count": 2,
   "metadata": {},
   "outputs": [
    {
     "name": "stdout",
     "output_type": "stream",
     "text": [
      "10\n"
     ]
    }
   ],
   "source": [
    "n= int (raw_input())\n",
    "perm = list(permutations(range(1,n+1),n))\n",
    "steps=[]\n",
    "for i in range (0,len(perm)):\n",
    "    steps.append(bubbleSteps(list(perm[i])))\n",
    "steps=np.array(steps)"
   ]
  },
  {
   "cell_type": "code",
   "execution_count": 3,
   "metadata": {},
   "outputs": [
    {
     "name": "stdout",
     "output_type": "stream",
     "text": [
      "n =  10\n",
      "cantidad de permutaciones =  3628800\n",
      "promedio =  112.5\n"
     ]
    },
    {
     "data": {
      "image/png": "[encoded data removed]",
      "text/plain": [
       "<matplotlib.figure.Figure at 0x84b9d30>"
      ]
     },
     "metadata": {},
     "output_type": "display_data"
    }
   ],
   "source": [
    "print \"n = \" , n\n",
    "print \"cantidad de permutaciones = \" , len(perm)\n",
    "print \"promedio = \" , np.average(steps)\n",
    "plt.hist(steps, bins='fd', normed=1);"
   ]
  },
  {
   "cell_type": "markdown",
   "metadata": {},
   "source": [
    "# Permutaciones aleatorias"
   ]
  },
  {
   "cell_type": "code",
   "execution_count": 4,
   "metadata": {},
   "outputs": [],
   "source": [
    "rand=[]\n",
    "steps1=[]\n",
    "for i in range (0,500):\n",
    "    rand.append(perm[random.randrange(0,len (perm)-1)]) \n",
    "\n",
    "for i in range (0,len(rand)):\n",
    "    steps1.append(bubbleSteps(list(rand[i])))\n",
    "steps1= np.array(steps1)\n"
   ]
  },
  {
   "cell_type": "code",
   "execution_count": 5,
   "metadata": {},
   "outputs": [
    {
     "name": "stdout",
     "output_type": "stream",
     "text": [
      "n =  10\n",
      "cantidad de permutaciones =  500\n",
      "promedio =  113.34\n"
     ]
    },
    {
     "data": {
      "image/png": "[encoded data removed]",
      "text/plain": [
       "<matplotlib.figure.Figure at 0x39c60668>"
      ]
     },
     "metadata": {},
     "output_type": "display_data"
    }
   ],
   "source": [
    "print \"n = \" , n\n",
    "print \"cantidad de permutaciones = \" , len(rand)\n",
    "print \"promedio = \" , np.average(steps1)\n",
    "plt.hist(steps1, bins='fd', normed=1);"
   ]
  }
 ],
 "metadata": {
  "kernelspec": {
   "display_name": "Python 2",
   "language": "python",
   "name": "python2"
  },
  "language_info": {
   "codemirror_mode": {
    "name": "ipython",
    "version": 2
   },
   "file_extension": ".py",
   "mimetype": "text/x-python",
   "name": "python",
   "nbconvert_exporter": "python",
   "pygments_lexer": "ipython2",
   "version": "2.7.14"
  }
 },
 "nbformat": 4,
 "nbformat_minor": 2
}
